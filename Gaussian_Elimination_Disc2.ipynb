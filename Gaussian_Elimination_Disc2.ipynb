{
 "cells": [
  {
   "cell_type": "code",
   "execution_count": 1,
   "metadata": {},
   "outputs": [
    {
     "name": "stdout",
     "output_type": "stream",
     "text": [
      "Enter number of unknowns: 2\n",
      "Enter Augmented Matrix Coefficients:\n",
      "a[0][0]=1\n",
      "a[0][1]=2\n",
      "a[0][2]=5\n",
      "a[1][0]=2\n",
      "a[1][1]=8\n",
      "a[1][2]=12\n",
      "\n",
      "The solution is: \n",
      "X0 = 4.00\tX1 = 0.50\t"
     ]
    }
   ],
   "source": [
    "import numpy as np\n",
    "import sys\n",
    " \n",
    "n = int(input('Enter number of unknowns: '))\n",
    "a = np.zeros((n,n+1))\n",
    "x = np.zeros(n)\n",
    "print('Enter Augmented Matrix Coefficients:')\n",
    "for i in range(n):\n",
    "    for j in range(n+1):\n",
    "        a[i][j] = float(input( 'a['+str(i)+']['+ str(j)+']='))\n",
    "for i in range(n):\n",
    "    if a[i][i] == 0.0:\n",
    "        sys.exit('Divide by zero detected!')\n",
    "         \n",
    "    for j in range(i+1, n):\n",
    "        ratio = a[j][i]/a[i][i]\n",
    "         \n",
    "        for k in range(n+1):\n",
    "            a[j][k] = a[j][k] - ratio * a[i][k]\n",
    " \n",
    "x[n-1] = a[n-1][n]/a[n-1][n-1]\n",
    " \n",
    "for i in range(n-2,-1,-1):\n",
    "    x[i] = a[i][n]\n",
    "     \n",
    "    for j in range(i+1,n):\n",
    "        x[i] = x[i] - a[i][j]*x[j]\n",
    "     \n",
    "    x[i] = x[i]/a[i][i]\n",
    " \n",
    "print('\\nThe solution is: ')\n",
    "for i in range(n):\n",
    "    print('X%d = %0.2f' %(i,x[i]), end = '\\t')"
   ]
  },
  {
   "cell_type": "code",
   "execution_count": null,
   "metadata": {},
   "outputs": [],
   "source": []
  }
 ],
 "metadata": {
  "kernelspec": {
   "display_name": "Python 3",
   "language": "python",
   "name": "python3"
  },
  "language_info": {
   "codemirror_mode": {
    "name": "ipython",
    "version": 3
   },
   "file_extension": ".py",
   "mimetype": "text/x-python",
   "name": "python",
   "nbconvert_exporter": "python",
   "pygments_lexer": "ipython3",
   "version": "3.7.3"
  }
 },
 "nbformat": 4,
 "nbformat_minor": 2
}
